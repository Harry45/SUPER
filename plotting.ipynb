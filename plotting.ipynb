{
 "cells": [
  {
   "cell_type": "code",
   "execution_count": 1,
   "metadata": {},
   "outputs": [],
   "source": [
    "import pandas as pd \n",
    "import numpy as np \n",
    "import matplotlib.pylab as plt "
   ]
  },
  {
   "cell_type": "code",
   "execution_count": 2,
   "metadata": {},
   "outputs": [],
   "source": [
    "plt.rc('text', usetex=True)\n",
    "plt.rc('font',**{'family':'sans-serif','serif':['Palatino']})\n",
    "figSize  = (12, 8)\n",
    "fontSize = 20"
   ]
  },
  {
   "cell_type": "markdown",
   "metadata": {},
   "source": [
    "# Illustrate LHS with Inducing Points"
   ]
  },
  {
   "cell_type": "code",
   "execution_count": 3,
   "metadata": {},
   "outputs": [],
   "source": [
    "lhs_1 = pd.read_csv('data/lhs_16.csv', index_col=0)\n",
    "lhs_2 = pd.read_csv('data/lhs_4.csv', index_col=0)"
   ]
  },
  {
   "cell_type": "code",
   "execution_count": 4,
   "metadata": {},
   "outputs": [
    {
     "data": {
      "image/png": "[encoded data removed]",
      "text/plain": [
       "<Figure size 360x360 with 1 Axes>"
      ]
     },
     "metadata": {
      "needs_background": "light"
     },
     "output_type": "display_data"
    }
   ],
   "source": [
    "fig, ax = plt.subplots(figsize=(5,5))\n",
    "ax.scatter(lhs_1['V1'], lhs_1['V2'], marker = 'o', c = 'k')\n",
    "ax.scatter(lhs_2['V1'], lhs_2['V2'], marker = 'o', c = 'r')\n",
    "ax.set_yticks(np.linspace(0.0, 1.0, 3), minor=False)\n",
    "ax.set_yticks(np.linspace(0.0, 1.0, 5), minor=True)\n",
    "ax.set_xticks(np.linspace(0.0, 1.0, 3), minor=False)\n",
    "ax.set_xticks(np.linspace(0.0, 1.0, 5), minor=True)\n",
    "ax.yaxis.grid(True, which='major', linestyle = '-', c = 'r')\n",
    "ax.yaxis.grid(True, which='minor', linestyle = '--')\n",
    "ax.xaxis.grid(True, which='major', linestyle = '-', c = 'r')\n",
    "ax.xaxis.grid(True, which='minor', linestyle = '--')\n",
    "ax.set_xlim(0.0, 1.0)\n",
    "ax.set_ylim(0.0, 1.0)\n",
    "plt.ylabel(r'$\\theta_{1}$', fontsize = fontSize)\n",
    "plt.xlabel(r'$\\theta_{0}$', fontsize = fontSize)\n",
    "plt.tick_params(axis='x', labelsize=fontSize)\n",
    "plt.tick_params(axis='y', labelsize=fontSize)\n",
    "plt.show()"
   ]
  },
  {
   "cell_type": "markdown",
   "metadata": {},
   "source": [
    "# Testing SVGP"
   ]
  },
  {
   "cell_type": "code",
   "execution_count": null,
   "metadata": {},
   "outputs": [],
   "source": [
    "# inputs =  torch.from_numpy(lhs_1.values)\n",
    "# inducing = torch.from_numpy(lhs_2.values)\n",
    "# yvals = torch.sin(inputs[:,0]) * torch.cos(inputs[:,1])"
   ]
  },
  {
   "cell_type": "markdown",
   "metadata": {},
   "source": [
    "# Testing Bayesian Committee Machine"
   ]
  },
  {
   "cell_type": "code",
   "execution_count": 1,
   "metadata": {},
   "outputs": [],
   "source": [
    "import torch\n",
    "import matplotlib.pylab as plt \n",
    "from src.gp.bcm import clustering, distance_from_cluster\n",
    "from src.gp.kernel import compute_kernel\n",
    "from src.gp.bcm import log_marginal_likelihood, cost\n",
    "from src.gp.bcm import BayesianMachine"
   ]
  },
  {
   "cell_type": "code",
   "execution_count": 2,
   "metadata": {},
   "outputs": [],
   "source": [
    "ndata = 150\n",
    "inputs = torch.rand(ndata, 2) # torch.from_numpy(lhs_1.values)\n",
    "yvals = inputs[:,0] * torch.cos(inputs[:,1])"
   ]
  },
  {
   "cell_type": "markdown",
   "metadata": {},
   "source": [
    "### Test Clustering"
   ]
  },
  {
   "cell_type": "code",
   "execution_count": 3,
   "metadata": {},
   "outputs": [],
   "source": [
    "module, record = clustering(inputs, yvals, 3)\n",
    "pred_labels = distance_from_cluster(module, torch.Tensor([0.7, 0.5]))"
   ]
  },
  {
   "cell_type": "markdown",
   "metadata": {},
   "source": [
    "### Test Evidence Calculation"
   ]
  },
  {
   "cell_type": "code",
   "execution_count": 4,
   "metadata": {},
   "outputs": [],
   "source": [
    "hyper = torch.Tensor([0.0, 0.0, 0.0])"
   ]
  },
  {
   "cell_type": "code",
   "execution_count": 5,
   "metadata": {},
   "outputs": [],
   "source": [
    "kernel = compute_kernel(inputs, inputs, hyper)"
   ]
  },
  {
   "cell_type": "code",
   "execution_count": 6,
   "metadata": {},
   "outputs": [
    {
     "data": {
      "text/plain": [
       "tensor([798.2707])"
      ]
     },
     "execution_count": 6,
     "metadata": {},
     "output_type": "execute_result"
    }
   ],
   "source": [
    "log_marginal_likelihood(kernel, yvals, 1E-5)"
   ]
  },
  {
   "cell_type": "code",
   "execution_count": 7,
   "metadata": {},
   "outputs": [],
   "source": [
    "kernel1 = compute_kernel(record['0'][0], record['0'][0], hyper)\n",
    "kernel2 = compute_kernel(record['1'][0], record['1'][0], hyper)\n",
    "kernel3 = compute_kernel(record['2'][0], record['2'][0], hyper)"
   ]
  },
  {
   "cell_type": "code",
   "execution_count": 8,
   "metadata": {},
   "outputs": [],
   "source": [
    "z1 = log_marginal_likelihood(kernel1, record['0'][1], 1E-5)\n",
    "z2 = log_marginal_likelihood(kernel2, record['1'][1], 1E-5)\n",
    "z3 = log_marginal_likelihood(kernel3, record['2'][1], 1E-5)"
   ]
  },
  {
   "cell_type": "code",
   "execution_count": 9,
   "metadata": {},
   "outputs": [
    {
     "data": {
      "text/plain": [
       "tensor([750.0182])"
      ]
     },
     "execution_count": 9,
     "metadata": {},
     "output_type": "execute_result"
    }
   ],
   "source": [
    "z1 + z2 + z3"
   ]
  },
  {
   "cell_type": "markdown",
   "metadata": {},
   "source": [
    "### Test Evidence Function"
   ]
  },
  {
   "cell_type": "code",
   "execution_count": 10,
   "metadata": {},
   "outputs": [],
   "source": [
    "# %%time\n",
    "# cost_parallel(record, hyper, 1E-5)"
   ]
  },
  {
   "cell_type": "code",
   "execution_count": 11,
   "metadata": {},
   "outputs": [
    {
     "name": "stdout",
     "output_type": "stream",
     "text": [
      "CPU times: user 3.1 ms, sys: 0 ns, total: 3.1 ms\n",
      "Wall time: 2.67 ms\n"
     ]
    },
    {
     "data": {
      "text/plain": [
       "tensor([750.0182])"
      ]
     },
     "execution_count": 11,
     "metadata": {},
     "output_type": "execute_result"
    }
   ],
   "source": [
    "%%time\n",
    "cost(record, hyper, 1E-5)"
   ]
  },
  {
   "cell_type": "markdown",
   "metadata": {},
   "source": [
    "### Test the Main Code"
   ]
  },
  {
   "cell_type": "code",
   "execution_count": 5,
   "metadata": {},
   "outputs": [],
   "source": [
    "bcm_kmeans = BayesianMachine(inputs, yvals, 1E-5, n_clusters = 2)\n",
    "bcm_exact = BayesianMachine(inputs, yvals, 1E-5)"
   ]
  },
  {
   "cell_type": "code",
   "execution_count": 6,
   "metadata": {},
   "outputs": [],
   "source": [
    "config_exact = {'niter': 1000, 'lrate': 1E-3, 'nrestart': 2}\n",
    "config_kmean = {'niter': 1000, 'lrate': 1E-3, 'nrestart': 2}"
   ]
  },
  {
   "cell_type": "code",
   "execution_count": 7,
   "metadata": {},
   "outputs": [],
   "source": [
    "d_kmeans = bcm_kmeans.optimisation(hyper, config_kmean)\n",
    "d_exact = bcm_exact.optimisation(hyper, config_exact)"
   ]
  },
  {
   "cell_type": "code",
   "execution_count": 8,
   "metadata": {},
   "outputs": [
    {
     "data": {
      "image/png": "[encoded data removed]",
      "text/plain": [
       "<Figure size 432x288 with 1 Axes>"
      ]
     },
     "metadata": {},
     "output_type": "display_data"
    }
   ],
   "source": [
    "plt.figure()\n",
    "plt.plot(d_kmeans[0]['loss'], linestyle = '--')\n",
    "plt.plot(d_kmeans[1]['loss'], linestyle = '--')\n",
    "plt.plot(d_exact[0]['loss'], linestyle = '-')\n",
    "plt.plot(d_exact[1]['loss'], linestyle = '-')\n",
    "plt.show()"
   ]
  },
  {
   "cell_type": "code",
   "execution_count": 9,
   "metadata": {},
   "outputs": [
    {
     "data": {
      "text/plain": [
       "tensor([ 1.5068, -1.1484, -1.0650])"
      ]
     },
     "execution_count": 9,
     "metadata": {},
     "output_type": "execute_result"
    }
   ],
   "source": [
    "d_kmeans[0]['parameters']"
   ]
  },
  {
   "cell_type": "code",
   "execution_count": 10,
   "metadata": {},
   "outputs": [
    {
     "data": {
      "text/plain": [
       "tensor([ 1.2394, -1.1769, -1.2297])"
      ]
     },
     "execution_count": 10,
     "metadata": {},
     "output_type": "execute_result"
    }
   ],
   "source": [
    "d_kmeans[1]['parameters']"
   ]
  },
  {
   "cell_type": "code",
   "execution_count": 11,
   "metadata": {},
   "outputs": [
    {
     "data": {
      "text/plain": [
       "tensor([ 1.2766, -1.1342, -1.0956])"
      ]
     },
     "execution_count": 11,
     "metadata": {},
     "output_type": "execute_result"
    }
   ],
   "source": [
    "d_exact[0]['parameters']"
   ]
  },
  {
   "cell_type": "code",
   "execution_count": 12,
   "metadata": {},
   "outputs": [
    {
     "data": {
      "text/plain": [
       "tensor([ 1.2906, -1.2695, -1.0764])"
      ]
     },
     "execution_count": 12,
     "metadata": {},
     "output_type": "execute_result"
    }
   ],
   "source": [
    "d_exact[1]['parameters']"
   ]
  },
  {
   "cell_type": "code",
   "execution_count": 13,
   "metadata": {},
   "outputs": [
    {
     "data": {
      "text/plain": [
       "(tensor([[0.4390]]), tensor([[0.2407]]))"
      ]
     },
     "execution_count": 13,
     "metadata": {},
     "output_type": "execute_result"
    }
   ],
   "source": [
    "bcm_exact.mean_prediction(torch.Tensor([0.5, 0.5]), var = True)"
   ]
  },
  {
   "cell_type": "code",
   "execution_count": 14,
   "metadata": {},
   "outputs": [
    {
     "data": {
      "text/plain": [
       "tensor(0.4388)"
      ]
     },
     "execution_count": 14,
     "metadata": {},
     "output_type": "execute_result"
    }
   ],
   "source": [
    "0.5*torch.cos(torch.tensor(0.5))"
   ]
  },
  {
   "cell_type": "code",
   "execution_count": null,
   "metadata": {},
   "outputs": [],
   "source": []
  }
 ],
 "metadata": {
  "kernelspec": {
   "display_name": "Python 3",
   "language": "python",
   "name": "python3"
  },
  "language_info": {
   "codemirror_mode": {
    "name": "ipython",
    "version": 3
   },
   "file_extension": ".py",
   "mimetype": "text/x-python",
   "name": "python",
   "nbconvert_exporter": "python",
   "pygments_lexer": "ipython3",
   "version": "3.6.5"
  }
 },
 "nbformat": 4,
 "nbformat_minor": 4
}
