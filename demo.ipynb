{
 "cells": [
  {
   "cell_type": "code",
   "execution_count": 1,
   "metadata": {},
   "outputs": [],
   "source": [
    "from src.powerspectrum import PowerSpectrum\n",
    "import config as CONFIG \n",
    "\n",
    "import matplotlib.pylab as plt \n",
    "plt.rc('text', usetex=True)\n",
    "plt.rc('font',**{'family':'sans-serif','serif':['Palatino']})\n",
    "figSize  = (12, 8)\n",
    "fontSize = 20"
   ]
  },
  {
   "cell_type": "code",
   "execution_count": 2,
   "metadata": {},
   "outputs": [],
   "source": [
    "pkcalc = PowerSpectrum(CONFIG.ZMIN, CONFIG.ZMAX, CONFIG.KMIN, CONFIG.KMAX)"
   ]
  },
  {
   "cell_type": "code",
   "execution_count": 3,
   "metadata": {},
   "outputs": [],
   "source": [
    "inputs = {'omega_cdm': 0.12,\n",
    "         'omega_b': 0.020,\n",
    "         'ln10^{10}A_s': 2.7,\n",
    "         'n_s': 1.0,\n",
    "         'h': 0.70,\n",
    "          'M_tot': 0.05,\n",
    "         'c_min': 2.15}"
   ]
  },
  {
   "cell_type": "code",
   "execution_count": 4,
   "metadata": {},
   "outputs": [],
   "source": [
    "pk_lin, pk_non = pkcalc.pk_calculation(inputs, 0)"
   ]
  },
  {
   "cell_type": "code",
   "execution_count": 5,
   "metadata": {},
   "outputs": [
    {
     "data": {
      "image/png": "[encoded data removed]",
      "text/plain": [
       "<Figure size 576x576 with 1 Axes>"
      ]
     },
     "metadata": {
      "needs_background": "light"
     },
     "output_type": "display_data"
    }
   ],
   "source": [
    "plt.figure(figsize = (8, 8))\n",
    "plt.loglog(pkcalc.wavenumber, pk_lin, label = 'Linear $P(k,z)$')\n",
    "plt.loglog(pkcalc.wavenumber, pk_non, label = 'Non Linear $P(k,z)$')\n",
    "plt.xlim(pkcalc.k_min, pkcalc.k_max)\n",
    "plt.ylabel(r'$P(k,z)$', fontsize = fontSize)\n",
    "plt.xlabel(r'$k\\,[\\textrm{Mpc}^{-1}]$', fontsize = fontSize)\n",
    "plt.tick_params(axis='x', labelsize=fontSize)\n",
    "plt.tick_params(axis='y', labelsize=fontSize)\n",
    "plt.legend(loc = 'best',prop={'family':'sans-serif', 'size':15})\n",
    "plt.show()"
   ]
  },
  {
   "cell_type": "markdown",
   "metadata": {},
   "source": [
    "# Generate the Training Points"
   ]
  },
  {
   "cell_type": "code",
   "execution_count": 1,
   "metadata": {},
   "outputs": [],
   "source": [
    "from trainingpoints import calculate_power_spectrum"
   ]
  },
  {
   "cell_type": "code",
   "execution_count": 2,
   "metadata": {},
   "outputs": [],
   "source": [
    "# cosmo, linear, nonlinear = calculate_power_spectrum('lhs_8000', 0)"
   ]
  },
  {
   "cell_type": "markdown",
   "metadata": {},
   "source": [
    "# Split Points into Train and Test"
   ]
  },
  {
   "cell_type": "code",
   "execution_count": 8,
   "metadata": {},
   "outputs": [],
   "source": [
    "import numpy as np \n",
    "from sklearn.model_selection import train_test_split\n",
    "import utils.helpers as hp"
   ]
  },
  {
   "cell_type": "code",
   "execution_count": 9,
   "metadata": {},
   "outputs": [],
   "source": [
    "cosmologies = hp.load_csv('data', 'cosmologies_lhs_8000')"
   ]
  },
  {
   "cell_type": "code",
   "execution_count": 10,
   "metadata": {},
   "outputs": [
    {
     "data": {
      "text/html": [
       "<div>\n",
       "<style scoped>\n",
       "    .dataframe tbody tr th:only-of-type {\n",
       "        vertical-align: middle;\n",
       "    }\n",
       "\n",
       "    .dataframe tbody tr th {\n",
       "        vertical-align: top;\n",
       "    }\n",
       "\n",
       "    .dataframe thead th {\n",
       "        text-align: right;\n",
       "    }\n",
       "</style>\n",
       "<table border=\"1\" class=\"dataframe\">\n",
       "  <thead>\n",
       "    <tr style=\"text-align: right;\">\n",
       "      <th></th>\n",
       "      <th>0</th>\n",
       "      <th>1</th>\n",
       "      <th>2</th>\n",
       "      <th>3</th>\n",
       "      <th>4</th>\n",
       "      <th>5</th>\n",
       "      <th>6</th>\n",
       "    </tr>\n",
       "  </thead>\n",
       "  <tbody>\n",
       "    <tr>\n",
       "      <th>0</th>\n",
       "      <td>0.321862</td>\n",
       "      <td>0.020876</td>\n",
       "      <td>2.365299</td>\n",
       "      <td>1.095350</td>\n",
       "      <td>0.692025</td>\n",
       "      <td>0.758554</td>\n",
       "      <td>2.746491</td>\n",
       "    </tr>\n",
       "    <tr>\n",
       "      <th>1</th>\n",
       "      <td>0.340145</td>\n",
       "      <td>0.022639</td>\n",
       "      <td>2.697753</td>\n",
       "      <td>0.806988</td>\n",
       "      <td>0.784152</td>\n",
       "      <td>0.380711</td>\n",
       "      <td>2.925226</td>\n",
       "    </tr>\n",
       "    <tr>\n",
       "      <th>2</th>\n",
       "      <td>0.226900</td>\n",
       "      <td>0.022026</td>\n",
       "      <td>2.879396</td>\n",
       "      <td>1.125872</td>\n",
       "      <td>0.745988</td>\n",
       "      <td>0.363099</td>\n",
       "      <td>2.688424</td>\n",
       "    </tr>\n",
       "    <tr>\n",
       "      <th>3</th>\n",
       "      <td>0.160225</td>\n",
       "      <td>0.022887</td>\n",
       "      <td>3.178516</td>\n",
       "      <td>0.926398</td>\n",
       "      <td>0.671363</td>\n",
       "      <td>0.219715</td>\n",
       "      <td>2.557889</td>\n",
       "    </tr>\n",
       "    <tr>\n",
       "      <th>4</th>\n",
       "      <td>0.185565</td>\n",
       "      <td>0.021318</td>\n",
       "      <td>4.258425</td>\n",
       "      <td>1.115256</td>\n",
       "      <td>0.678582</td>\n",
       "      <td>0.272564</td>\n",
       "      <td>2.609840</td>\n",
       "    </tr>\n",
       "  </tbody>\n",
       "</table>\n",
       "</div>"
      ],
      "text/plain": [
       "          0         1         2         3         4         5         6\n",
       "0  0.321862  0.020876  2.365299  1.095350  0.692025  0.758554  2.746491\n",
       "1  0.340145  0.022639  2.697753  0.806988  0.784152  0.380711  2.925226\n",
       "2  0.226900  0.022026  2.879396  1.125872  0.745988  0.363099  2.688424\n",
       "3  0.160225  0.022887  3.178516  0.926398  0.671363  0.219715  2.557889\n",
       "4  0.185565  0.021318  4.258425  1.115256  0.678582  0.272564  2.609840"
      ]
     },
     "execution_count": 10,
     "metadata": {},
     "output_type": "execute_result"
    }
   ],
   "source": [
    "cosmologies.head()"
   ]
  },
  {
   "cell_type": "code",
   "execution_count": 11,
   "metadata": {},
   "outputs": [],
   "source": [
    "pk_lin = hp.load_csv('data', 'pk_linear_lhs_8000')\n",
    "pk_non = hp.load_csv('data', 'pk_nonlinear_lhs_8000')"
   ]
  },
  {
   "cell_type": "code",
   "execution_count": 12,
   "metadata": {},
   "outputs": [
    {
     "data": {
      "text/html": [
       "<div>\n",
       "<style scoped>\n",
       "    .dataframe tbody tr th:only-of-type {\n",
       "        vertical-align: middle;\n",
       "    }\n",
       "\n",
       "    .dataframe tbody tr th {\n",
       "        vertical-align: top;\n",
       "    }\n",
       "\n",
       "    .dataframe thead th {\n",
       "        text-align: right;\n",
       "    }\n",
       "</style>\n",
       "<table border=\"1\" class=\"dataframe\">\n",
       "  <thead>\n",
       "    <tr style=\"text-align: right;\">\n",
       "      <th></th>\n",
       "      <th>0</th>\n",
       "      <th>1</th>\n",
       "      <th>2</th>\n",
       "      <th>3</th>\n",
       "      <th>4</th>\n",
       "      <th>5</th>\n",
       "      <th>6</th>\n",
       "      <th>7</th>\n",
       "      <th>8</th>\n",
       "      <th>9</th>\n",
       "      <th>...</th>\n",
       "      <th>30</th>\n",
       "      <th>31</th>\n",
       "      <th>32</th>\n",
       "      <th>33</th>\n",
       "      <th>34</th>\n",
       "      <th>35</th>\n",
       "      <th>36</th>\n",
       "      <th>37</th>\n",
       "      <th>38</th>\n",
       "      <th>39</th>\n",
       "    </tr>\n",
       "  </thead>\n",
       "  <tbody>\n",
       "    <tr>\n",
       "      <th>0</th>\n",
       "      <td>630.938696</td>\n",
       "      <td>816.292511</td>\n",
       "      <td>1055.483088</td>\n",
       "      <td>1363.597015</td>\n",
       "      <td>1759.464766</td>\n",
       "      <td>2266.152115</td>\n",
       "      <td>2911.114102</td>\n",
       "      <td>3725.489229</td>\n",
       "      <td>4742.290282</td>\n",
       "      <td>5992.036698</td>\n",
       "      <td>...</td>\n",
       "      <td>944.735464</td>\n",
       "      <td>604.746820</td>\n",
       "      <td>379.977570</td>\n",
       "      <td>234.816332</td>\n",
       "      <td>142.973620</td>\n",
       "      <td>85.907540</td>\n",
       "      <td>51.011001</td>\n",
       "      <td>29.969967</td>\n",
       "      <td>17.441083</td>\n",
       "      <td>10.063101</td>\n",
       "    </tr>\n",
       "    <tr>\n",
       "      <th>1</th>\n",
       "      <td>2797.597931</td>\n",
       "      <td>3381.286284</td>\n",
       "      <td>4084.413936</td>\n",
       "      <td>4929.584920</td>\n",
       "      <td>5942.356049</td>\n",
       "      <td>7149.772824</td>\n",
       "      <td>8580.184093</td>\n",
       "      <td>10258.956056</td>\n",
       "      <td>12203.623046</td>\n",
       "      <td>14417.451607</td>\n",
       "      <td>...</td>\n",
       "      <td>693.110537</td>\n",
       "      <td>416.807765</td>\n",
       "      <td>245.828051</td>\n",
       "      <td>142.503178</td>\n",
       "      <td>81.346234</td>\n",
       "      <td>45.803548</td>\n",
       "      <td>25.477405</td>\n",
       "      <td>14.017416</td>\n",
       "      <td>7.637010</td>\n",
       "      <td>4.124342</td>\n",
       "    </tr>\n",
       "    <tr>\n",
       "      <th>2</th>\n",
       "      <td>1448.039563</td>\n",
       "      <td>1885.203349</td>\n",
       "      <td>2451.761602</td>\n",
       "      <td>3183.739947</td>\n",
       "      <td>4124.987563</td>\n",
       "      <td>5327.433016</td>\n",
       "      <td>6849.682442</td>\n",
       "      <td>8752.509640</td>\n",
       "      <td>11091.734405</td>\n",
       "      <td>13907.047780</td>\n",
       "      <td>...</td>\n",
       "      <td>983.093838</td>\n",
       "      <td>617.092489</td>\n",
       "      <td>381.283295</td>\n",
       "      <td>232.294622</td>\n",
       "      <td>139.758360</td>\n",
       "      <td>83.145819</td>\n",
       "      <td>48.970159</td>\n",
       "      <td>28.582082</td>\n",
       "      <td>16.546808</td>\n",
       "      <td>9.508918</td>\n",
       "    </tr>\n",
       "    <tr>\n",
       "      <th>3</th>\n",
       "      <td>8683.124028</td>\n",
       "      <td>10767.574483</td>\n",
       "      <td>13328.615663</td>\n",
       "      <td>16456.550127</td>\n",
       "      <td>20244.185377</td>\n",
       "      <td>24778.317609</td>\n",
       "      <td>30121.621596</td>\n",
       "      <td>36292.645453</td>\n",
       "      <td>43240.950024</td>\n",
       "      <td>50813.456444</td>\n",
       "      <td>...</td>\n",
       "      <td>488.501235</td>\n",
       "      <td>285.876440</td>\n",
       "      <td>165.096959</td>\n",
       "      <td>94.224235</td>\n",
       "      <td>53.207900</td>\n",
       "      <td>29.761535</td>\n",
       "      <td>16.504701</td>\n",
       "      <td>9.082281</td>\n",
       "      <td>4.962847</td>\n",
       "      <td>2.694607</td>\n",
       "    </tr>\n",
       "    <tr>\n",
       "      <th>4</th>\n",
       "      <td>8764.683573</td>\n",
       "      <td>11372.672705</td>\n",
       "      <td>14735.324366</td>\n",
       "      <td>19052.443966</td>\n",
       "      <td>24559.928211</td>\n",
       "      <td>31525.747071</td>\n",
       "      <td>40231.824933</td>\n",
       "      <td>50942.912860</td>\n",
       "      <td>63860.666015</td>\n",
       "      <td>79056.989985</td>\n",
       "      <td>...</td>\n",
       "      <td>2994.959538</td>\n",
       "      <td>1849.724076</td>\n",
       "      <td>1126.209090</td>\n",
       "      <td>677.024711</td>\n",
       "      <td>402.383205</td>\n",
       "      <td>236.723968</td>\n",
       "      <td>137.993560</td>\n",
       "      <td>79.778189</td>\n",
       "      <td>45.778519</td>\n",
       "      <td>26.091173</td>\n",
       "    </tr>\n",
       "  </tbody>\n",
       "</table>\n",
       "<p>5 rows × 40 columns</p>\n",
       "</div>"
      ],
      "text/plain": [
       "            0             1             2             3             4   \\\n",
       "0   630.938696    816.292511   1055.483088   1363.597015   1759.464766   \n",
       "1  2797.597931   3381.286284   4084.413936   4929.584920   5942.356049   \n",
       "2  1448.039563   1885.203349   2451.761602   3183.739947   4124.987563   \n",
       "3  8683.124028  10767.574483  13328.615663  16456.550127  20244.185377   \n",
       "4  8764.683573  11372.672705  14735.324366  19052.443966  24559.928211   \n",
       "\n",
       "             5             6             7             8             9   ...  \\\n",
       "0   2266.152115   2911.114102   3725.489229   4742.290282   5992.036698  ...   \n",
       "1   7149.772824   8580.184093  10258.956056  12203.623046  14417.451607  ...   \n",
       "2   5327.433016   6849.682442   8752.509640  11091.734405  13907.047780  ...   \n",
       "3  24778.317609  30121.621596  36292.645453  43240.950024  50813.456444  ...   \n",
       "4  31525.747071  40231.824933  50942.912860  63860.666015  79056.989985  ...   \n",
       "\n",
       "            30           31           32          33          34          35  \\\n",
       "0   944.735464   604.746820   379.977570  234.816332  142.973620   85.907540   \n",
       "1   693.110537   416.807765   245.828051  142.503178   81.346234   45.803548   \n",
       "2   983.093838   617.092489   381.283295  232.294622  139.758360   83.145819   \n",
       "3   488.501235   285.876440   165.096959   94.224235   53.207900   29.761535   \n",
       "4  2994.959538  1849.724076  1126.209090  677.024711  402.383205  236.723968   \n",
       "\n",
       "           36         37         38         39  \n",
       "0   51.011001  29.969967  17.441083  10.063101  \n",
       "1   25.477405  14.017416   7.637010   4.124342  \n",
       "2   48.970159  28.582082  16.546808   9.508918  \n",
       "3   16.504701   9.082281   4.962847   2.694607  \n",
       "4  137.993560  79.778189  45.778519  26.091173  \n",
       "\n",
       "[5 rows x 40 columns]"
      ]
     },
     "execution_count": 12,
     "metadata": {},
     "output_type": "execute_result"
    }
   ],
   "source": [
    "pk_lin.head()"
   ]
  },
  {
   "cell_type": "code",
   "execution_count": 13,
   "metadata": {},
   "outputs": [
    {
     "data": {
      "text/html": [
       "<div>\n",
       "<style scoped>\n",
       "    .dataframe tbody tr th:only-of-type {\n",
       "        vertical-align: middle;\n",
       "    }\n",
       "\n",
       "    .dataframe tbody tr th {\n",
       "        vertical-align: top;\n",
       "    }\n",
       "\n",
       "    .dataframe thead th {\n",
       "        text-align: right;\n",
       "    }\n",
       "</style>\n",
       "<table border=\"1\" class=\"dataframe\">\n",
       "  <thead>\n",
       "    <tr style=\"text-align: right;\">\n",
       "      <th></th>\n",
       "      <th>0</th>\n",
       "      <th>1</th>\n",
       "      <th>2</th>\n",
       "      <th>3</th>\n",
       "      <th>4</th>\n",
       "      <th>5</th>\n",
       "      <th>6</th>\n",
       "      <th>7</th>\n",
       "      <th>8</th>\n",
       "      <th>9</th>\n",
       "      <th>...</th>\n",
       "      <th>30</th>\n",
       "      <th>31</th>\n",
       "      <th>32</th>\n",
       "      <th>33</th>\n",
       "      <th>34</th>\n",
       "      <th>35</th>\n",
       "      <th>36</th>\n",
       "      <th>37</th>\n",
       "      <th>38</th>\n",
       "      <th>39</th>\n",
       "    </tr>\n",
       "  </thead>\n",
       "  <tbody>\n",
       "    <tr>\n",
       "      <th>0</th>\n",
       "      <td>630.930229</td>\n",
       "      <td>816.274453</td>\n",
       "      <td>1055.444808</td>\n",
       "      <td>1363.516321</td>\n",
       "      <td>1759.295631</td>\n",
       "      <td>2265.799830</td>\n",
       "      <td>2910.385934</td>\n",
       "      <td>3723.999165</td>\n",
       "      <td>4739.282897</td>\n",
       "      <td>5986.083832</td>\n",
       "      <td>...</td>\n",
       "      <td>2027.054544</td>\n",
       "      <td>1628.859333</td>\n",
       "      <td>1288.653234</td>\n",
       "      <td>989.575735</td>\n",
       "      <td>732.691964</td>\n",
       "      <td>523.748440</td>\n",
       "      <td>363.512588</td>\n",
       "      <td>246.356388</td>\n",
       "      <td>163.661469</td>\n",
       "      <td>106.840736</td>\n",
       "    </tr>\n",
       "    <tr>\n",
       "      <th>1</th>\n",
       "      <td>2797.557337</td>\n",
       "      <td>3381.205982</td>\n",
       "      <td>4084.255657</td>\n",
       "      <td>4929.274067</td>\n",
       "      <td>5941.747916</td>\n",
       "      <td>7148.588602</td>\n",
       "      <td>8577.891075</td>\n",
       "      <td>10254.548900</td>\n",
       "      <td>12195.237329</td>\n",
       "      <td>14401.714497</td>\n",
       "      <td>...</td>\n",
       "      <td>2105.734497</td>\n",
       "      <td>1703.312236</td>\n",
       "      <td>1347.632614</td>\n",
       "      <td>1027.657786</td>\n",
       "      <td>751.004881</td>\n",
       "      <td>527.554396</td>\n",
       "      <td>358.856093</td>\n",
       "      <td>237.941295</td>\n",
       "      <td>154.418369</td>\n",
       "      <td>98.325533</td>\n",
       "    </tr>\n",
       "    <tr>\n",
       "      <th>2</th>\n",
       "      <td>1448.014599</td>\n",
       "      <td>1885.149044</td>\n",
       "      <td>2451.644648</td>\n",
       "      <td>3183.490249</td>\n",
       "      <td>4124.458827</td>\n",
       "      <td>5326.322941</td>\n",
       "      <td>6847.374285</td>\n",
       "      <td>8747.766827</td>\n",
       "      <td>11082.135132</td>\n",
       "      <td>13887.999363</td>\n",
       "      <td>...</td>\n",
       "      <td>2770.242863</td>\n",
       "      <td>2248.761410</td>\n",
       "      <td>1778.318997</td>\n",
       "      <td>1353.846800</td>\n",
       "      <td>989.312008</td>\n",
       "      <td>697.160160</td>\n",
       "      <td>477.313048</td>\n",
       "      <td>319.381379</td>\n",
       "      <td>209.600663</td>\n",
       "      <td>135.204689</td>\n",
       "    </tr>\n",
       "    <tr>\n",
       "      <th>3</th>\n",
       "      <td>8683.004882</td>\n",
       "      <td>10767.306303</td>\n",
       "      <td>13328.032969</td>\n",
       "      <td>16455.316000</td>\n",
       "      <td>20241.624236</td>\n",
       "      <td>24773.096437</td>\n",
       "      <td>30111.159231</td>\n",
       "      <td>36272.054562</td>\n",
       "      <td>43201.228268</td>\n",
       "      <td>50738.605077</td>\n",
       "      <td>...</td>\n",
       "      <td>2331.219113</td>\n",
       "      <td>1825.620845</td>\n",
       "      <td>1381.427586</td>\n",
       "      <td>1005.011495</td>\n",
       "      <td>704.087779</td>\n",
       "      <td>477.541499</td>\n",
       "      <td>315.402322</td>\n",
       "      <td>203.756240</td>\n",
       "      <td>129.160318</td>\n",
       "      <td>80.517786</td>\n",
       "    </tr>\n",
       "    <tr>\n",
       "      <th>4</th>\n",
       "      <td>8764.022422</td>\n",
       "      <td>11371.283520</td>\n",
       "      <td>14732.415592</td>\n",
       "      <td>19046.378554</td>\n",
       "      <td>24547.347542</td>\n",
       "      <td>31499.835057</td>\n",
       "      <td>40178.960480</td>\n",
       "      <td>50836.455332</td>\n",
       "      <td>63650.042833</td>\n",
       "      <td>78650.153034</td>\n",
       "      <td>...</td>\n",
       "      <td>13270.345285</td>\n",
       "      <td>10242.929615</td>\n",
       "      <td>7462.829361</td>\n",
       "      <td>5168.560215</td>\n",
       "      <td>3461.569663</td>\n",
       "      <td>2270.650629</td>\n",
       "      <td>1462.555489</td>\n",
       "      <td>924.634358</td>\n",
       "      <td>573.927973</td>\n",
       "      <td>350.056583</td>\n",
       "    </tr>\n",
       "  </tbody>\n",
       "</table>\n",
       "<p>5 rows × 40 columns</p>\n",
       "</div>"
      ],
      "text/plain": [
       "            0             1             2             3             4   \\\n",
       "0   630.930229    816.274453   1055.444808   1363.516321   1759.295631   \n",
       "1  2797.557337   3381.205982   4084.255657   4929.274067   5941.747916   \n",
       "2  1448.014599   1885.149044   2451.644648   3183.490249   4124.458827   \n",
       "3  8683.004882  10767.306303  13328.032969  16455.316000  20241.624236   \n",
       "4  8764.022422  11371.283520  14732.415592  19046.378554  24547.347542   \n",
       "\n",
       "             5             6             7             8             9   ...  \\\n",
       "0   2265.799830   2910.385934   3723.999165   4739.282897   5986.083832  ...   \n",
       "1   7148.588602   8577.891075  10254.548900  12195.237329  14401.714497  ...   \n",
       "2   5326.322941   6847.374285   8747.766827  11082.135132  13887.999363  ...   \n",
       "3  24773.096437  30111.159231  36272.054562  43201.228268  50738.605077  ...   \n",
       "4  31499.835057  40178.960480  50836.455332  63650.042833  78650.153034  ...   \n",
       "\n",
       "             30            31           32           33           34  \\\n",
       "0   2027.054544   1628.859333  1288.653234   989.575735   732.691964   \n",
       "1   2105.734497   1703.312236  1347.632614  1027.657786   751.004881   \n",
       "2   2770.242863   2248.761410  1778.318997  1353.846800   989.312008   \n",
       "3   2331.219113   1825.620845  1381.427586  1005.011495   704.087779   \n",
       "4  13270.345285  10242.929615  7462.829361  5168.560215  3461.569663   \n",
       "\n",
       "            35           36          37          38          39  \n",
       "0   523.748440   363.512588  246.356388  163.661469  106.840736  \n",
       "1   527.554396   358.856093  237.941295  154.418369   98.325533  \n",
       "2   697.160160   477.313048  319.381379  209.600663  135.204689  \n",
       "3   477.541499   315.402322  203.756240  129.160318   80.517786  \n",
       "4  2270.650629  1462.555489  924.634358  573.927973  350.056583  \n",
       "\n",
       "[5 rows x 40 columns]"
      ]
     },
     "execution_count": 13,
     "metadata": {},
     "output_type": "execute_result"
    }
   ],
   "source": [
    "pk_non.head()"
   ]
  },
  {
   "cell_type": "code",
   "execution_count": 14,
   "metadata": {},
   "outputs": [],
   "source": [
    "X_train, X_test, y_train, y_test = train_test_split(cosmologies, pk_lin, test_size=0.2, random_state=42)\n",
    "X_train_non, X_test_non, y_train_non, y_test_non = train_test_split(cosmologies, pk_non, test_size=0.2, random_state=42)"
   ]
  },
  {
   "cell_type": "code",
   "execution_count": 16,
   "metadata": {},
   "outputs": [],
   "source": [
    "X_train.reset_index(drop=True, inplace=True)\n",
    "X_test.reset_index(drop=True, inplace=True)\n",
    "y_train.reset_index(drop=True, inplace=True)\n",
    "y_test.reset_index(drop=True, inplace=True)\n",
    "\n",
    "X_train_non.reset_index(drop=True, inplace=True)\n",
    "X_test_non.reset_index(drop=True, inplace=True)\n",
    "y_train_non.reset_index(drop=True, inplace=True)\n",
    "y_test_non.reset_index(drop=True, inplace=True)"
   ]
  },
  {
   "cell_type": "code",
   "execution_count": 17,
   "metadata": {},
   "outputs": [],
   "source": [
    "y_train_trans = np.log(y_train.values)\n",
    "y_test_trans = np.log(y_test.values)\n",
    "\n",
    "y_train_trans_non = np.log(y_train_non.values)\n",
    "y_test_trans_non = np.log(y_test_non.values)"
   ]
  },
  {
   "cell_type": "code",
   "execution_count": 19,
   "metadata": {},
   "outputs": [],
   "source": [
    "hp.save_list(X_train, 'data', 'x_train')\n",
    "hp.save_list(X_test, 'data', 'x_test')\n",
    "hp.save_list(y_train_trans, 'data', 'y_train')\n",
    "hp.save_list(y_test_trans, 'data', 'y_test')"
   ]
  },
  {
   "cell_type": "code",
   "execution_count": 20,
   "metadata": {},
   "outputs": [],
   "source": [
    "hp.save_list(X_train_non, 'data', 'x_train_non')\n",
    "hp.save_list(X_test_non, 'data', 'x_test_non')\n",
    "hp.save_list(y_train_trans_non, 'data', 'y_train_non')\n",
    "hp.save_list(y_test_trans_non, 'data', 'y_test_non')"
   ]
  },
  {
   "cell_type": "markdown",
   "metadata": {},
   "source": [
    "# Load Test Points"
   ]
  },
  {
   "cell_type": "code",
   "execution_count": 1,
   "metadata": {},
   "outputs": [],
   "source": [
    "import utils.helpers as hp\n",
    "import pandas as pd\n",
    "\n",
    "import matplotlib.pylab as plt \n",
    "plt.rc('text', usetex=True)\n",
    "plt.rc('font',**{'family':'sans-serif','serif':['Palatino']})\n",
    "figSize  = (12, 8)\n",
    "fontSize = 20"
   ]
  },
  {
   "cell_type": "code",
   "execution_count": 2,
   "metadata": {},
   "outputs": [],
   "source": [
    "X_test = hp.load_list('data', 'x_test')"
   ]
  },
  {
   "cell_type": "code",
   "execution_count": 3,
   "metadata": {},
   "outputs": [],
   "source": [
    "y_test = hp.load_list('data', 'y_test')"
   ]
  },
  {
   "cell_type": "code",
   "execution_count": 4,
   "metadata": {},
   "outputs": [],
   "source": [
    "predictions = pd.read_csv('data/predictions_2.csv')"
   ]
  },
  {
   "cell_type": "code",
   "execution_count": 5,
   "metadata": {},
   "outputs": [],
   "source": [
    "diff = y_test - predictions.y.values"
   ]
  },
  {
   "cell_type": "code",
   "execution_count": 7,
   "metadata": {},
   "outputs": [
    {
     "data": {
      "image/png": "[encoded data removed]",
      "text/plain": [
       "<Figure size 576x576 with 1 Axes>"
      ]
     },
     "metadata": {
      "needs_background": "light"
     },
     "output_type": "display_data"
    }
   ],
   "source": [
    "plt.figure(figsize = (8,8))\n",
    "plt.hist(diff/y_test, density = True, bins = 20, edgecolor='blue', linewidth=0.5, color = 'skyblue')\n",
    "plt.xlabel(r'$\\frac{\\Delta y}{y}$', fontsize = fontSize)\n",
    "plt.tick_params(axis='x', labelsize=fontSize)\n",
    "plt.tick_params(axis='y', labelsize=fontSize)\n",
    "# plt.savefig('plots/fractional_error_2.pdf', bbox_inches = 'tight')\n",
    "plt.show()"
   ]
  },
  {
   "cell_type": "code",
   "execution_count": null,
   "metadata": {},
   "outputs": [],
   "source": []
  }
 ],
 "metadata": {
  "kernelspec": {
   "display_name": "Python 3",
   "language": "python",
   "name": "python3"
  },
  "language_info": {
   "codemirror_mode": {
    "name": "ipython",
    "version": 3
   },
   "file_extension": ".py",
   "mimetype": "text/x-python",
   "name": "python",
   "nbconvert_exporter": "python",
   "pygments_lexer": "ipython3",
   "version": "3.7.6"
  }
 },
 "nbformat": 4,
 "nbformat_minor": 4
}
